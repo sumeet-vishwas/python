{
 "cells": [
  {
   "cell_type": "code",
   "execution_count": 7,
   "id": "49f821bf-5b58-411e-a551-5c9f0cf93b2e",
   "metadata": {},
   "outputs": [],
   "source": [
    "#Example of decorator\n",
    "def new_fun(original_fun):\n",
    "    def wrap_fun():\n",
    "        print('wrap up some code before the original function called')\n",
    "        original_fun()\n",
    "        print('wrap up some code after the original function called')\n",
    "\n",
    "    return wrap_fun\n"
   ]
  },
  {
   "cell_type": "code",
   "execution_count": 8,
   "id": "05cf439b-5c1c-4bbf-b887-870e2815bc32",
   "metadata": {},
   "outputs": [],
   "source": [
    "@new_fun\n",
    "def some_original_fun():\n",
    "    print('I am the original function')"
   ]
  },
  {
   "cell_type": "code",
   "execution_count": 9,
   "id": "56d6c0cd-6b34-4a5a-8429-8159ba2fa767",
   "metadata": {},
   "outputs": [],
   "source": [
    "#Example of implementing Decorator mannually\n",
    "#decorator_fun=new_fun(some_original_fun)\n",
    "#decorator_fun()"
   ]
  },
  {
   "cell_type": "code",
   "execution_count": 10,
   "id": "7061d31b-1e5c-4d0a-9eae-a4f5a01660e4",
   "metadata": {},
   "outputs": [
    {
     "name": "stdout",
     "output_type": "stream",
     "text": [
      "wrap up some code before the original function called\n",
      "I am the original function\n",
      "wrap up some code after the original function called\n"
     ]
    }
   ],
   "source": [
    "#using '@' operator in decorator\n",
    "some_original_fun()\n"
   ]
  },
  {
   "cell_type": "code",
   "execution_count": null,
   "id": "c5bf8104-1815-4122-8f3d-c107b3514098",
   "metadata": {},
   "outputs": [],
   "source": []
  }
 ],
 "metadata": {
  "kernelspec": {
   "display_name": "Python 3 (ipykernel)",
   "language": "python",
   "name": "python3"
  },
  "language_info": {
   "codemirror_mode": {
    "name": "ipython",
    "version": 3
   },
   "file_extension": ".py",
   "mimetype": "text/x-python",
   "name": "python",
   "nbconvert_exporter": "python",
   "pygments_lexer": "ipython3",
   "version": "3.12.7"
  }
 },
 "nbformat": 4,
 "nbformat_minor": 5
}
