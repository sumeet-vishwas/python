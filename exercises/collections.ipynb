{
 "cells": [
  {
   "cell_type": "code",
   "execution_count": 1,
   "id": "ad092c5a-18e3-405c-a85d-7afff15d6e9a",
   "metadata": {},
   "outputs": [],
   "source": [
    "from collections import Counter"
   ]
  },
  {
   "cell_type": "code",
   "execution_count": 4,
   "id": "b203e4b6-9a4d-4898-bad8-5645e6ba6ba7",
   "metadata": {},
   "outputs": [
    {
     "data": {
      "text/plain": [
       "Counter({1: 3, 4: 3, 2: 3, 3: 2})"
      ]
     },
     "execution_count": 4,
     "metadata": {},
     "output_type": "execute_result"
    }
   ],
   "source": [
    "mylist=[1,1,1,3,4,4,4,3,2,2,2]\n",
    "#counter return the dictonary containing number and its occurance\n",
    "Counter(mylist)"
   ]
  },
  {
   "cell_type": "code",
   "execution_count": 7,
   "id": "d4a3350a-efb8-488d-b827-12c93596bd0c",
   "metadata": {},
   "outputs": [],
   "source": [
    "sentance='this is my new sentance to test counter'\n",
    "counter=Counter(sentance)"
   ]
  },
  {
   "cell_type": "code",
   "execution_count": 10,
   "id": "c2a6a1e5-b2c8-4767-a79c-837fecc18055",
   "metadata": {},
   "outputs": [
    {
     "data": {
      "text/plain": [
       "[(' ', 7),\n",
       " ('t', 6),\n",
       " ('e', 5),\n",
       " ('s', 4),\n",
       " ('n', 4),\n",
       " ('i', 2),\n",
       " ('c', 2),\n",
       " ('o', 2),\n",
       " ('h', 1),\n",
       " ('m', 1),\n",
       " ('y', 1),\n",
       " ('w', 1),\n",
       " ('a', 1),\n",
       " ('u', 1),\n",
       " ('r', 1)]"
      ]
     },
     "execution_count": 10,
     "metadata": {},
     "output_type": "execute_result"
    }
   ],
   "source": [
    "counter.most_common()"
   ]
  },
  {
   "cell_type": "code",
   "execution_count": 11,
   "id": "9b8e3184-89e9-4de4-96e5-bd0a7f1ab076",
   "metadata": {},
   "outputs": [
    {
     "data": {
      "text/plain": [
       "[(' ', 7), ('t', 6)]"
      ]
     },
     "execution_count": 11,
     "metadata": {},
     "output_type": "execute_result"
    }
   ],
   "source": [
    "counter.most_common(2)"
   ]
  },
  {
   "cell_type": "code",
   "execution_count": 14,
   "id": "e65ccf2c-e8c8-4bc0-b00b-2aed09d27a0c",
   "metadata": {},
   "outputs": [],
   "source": [
    "#example of defaultdictory\n",
    "#defaultdictory is similar to dictory but unlikely to normal dictory it doesn't throw error when key doesn't exist\n",
    "\n",
    "from collections import defaultdict\n",
    "\n",
    "mydict={'a':1,'b':2,'c':3} #normal dict"
   ]
  },
  {
   "cell_type": "code",
   "execution_count": 16,
   "id": "00e7b483-e105-404c-9ec6-907ae4204b64",
   "metadata": {},
   "outputs": [
    {
     "data": {
      "text/plain": [
       "1"
      ]
     },
     "execution_count": 16,
     "metadata": {},
     "output_type": "execute_result"
    }
   ],
   "source": [
    "mydict['a']"
   ]
  },
  {
   "cell_type": "code",
   "execution_count": 17,
   "id": "2be50d40-e093-4286-82aa-267a9192945e",
   "metadata": {},
   "outputs": [
    {
     "ename": "NameError",
     "evalue": "name 'a' is not defined",
     "output_type": "error",
     "traceback": [
      "\u001b[1;31m---------------------------------------------------------------------------\u001b[0m",
      "\u001b[1;31mNameError\u001b[0m                                 Traceback (most recent call last)",
      "Cell \u001b[1;32mIn[17], line 1\u001b[0m\n\u001b[1;32m----> 1\u001b[0m mydict[a]\n",
      "\u001b[1;31mNameError\u001b[0m: name 'a' is not defined"
     ]
    }
   ],
   "source": [
    "mydict[a]"
   ]
  },
  {
   "cell_type": "code",
   "execution_count": 25,
   "id": "3eac4601-50fb-494c-8c62-4b5a4d6fb3d6",
   "metadata": {},
   "outputs": [],
   "source": [
    "defdict=defaultdict(lambda:0)\n",
    "defdict['a']=1\n"
   ]
  },
  {
   "cell_type": "code",
   "execution_count": 26,
   "id": "6c659d07-3fea-4413-a320-d64f91fd3199",
   "metadata": {},
   "outputs": [
    {
     "data": {
      "text/plain": [
       "0"
      ]
     },
     "execution_count": 26,
     "metadata": {},
     "output_type": "execute_result"
    }
   ],
   "source": [
    "defdict['wrong name']"
   ]
  },
  {
   "cell_type": "code",
   "execution_count": 27,
   "id": "a056d76c-408f-4538-b076-0f505b6dc97c",
   "metadata": {},
   "outputs": [],
   "source": [
    "#example of namedtuple\n",
    "#use on list which makes list as class\n",
    "\n",
    "from collections import namedtuple\n"
   ]
  },
  {
   "cell_type": "code",
   "execution_count": 30,
   "id": "fb65bac6-bd08-4352-b7e2-c4cf45946644",
   "metadata": {},
   "outputs": [],
   "source": [
    "Dog=namedtuple('Dog',['breed','age','name'])"
   ]
  },
  {
   "cell_type": "code",
   "execution_count": 31,
   "id": "6232eb2a-f15f-4dee-a3d2-3655d1321fa0",
   "metadata": {},
   "outputs": [],
   "source": [
    "lab=Dog('labra',1,'Samy')"
   ]
  },
  {
   "cell_type": "code",
   "execution_count": 32,
   "id": "98b11482-d819-42f4-b319-9c1c0d914e38",
   "metadata": {},
   "outputs": [
    {
     "data": {
      "text/plain": [
       "Dog(breed='labra', age=1, name='Samy')"
      ]
     },
     "execution_count": 32,
     "metadata": {},
     "output_type": "execute_result"
    }
   ],
   "source": [
    "lab"
   ]
  },
  {
   "cell_type": "code",
   "execution_count": 33,
   "id": "4b533511-1d09-4a13-9a93-330b6b6f1c57",
   "metadata": {},
   "outputs": [
    {
     "data": {
      "text/plain": [
       "'labra'"
      ]
     },
     "execution_count": 33,
     "metadata": {},
     "output_type": "execute_result"
    }
   ],
   "source": [
    "lab[0]"
   ]
  },
  {
   "cell_type": "code",
   "execution_count": 34,
   "id": "d0c8970f-b7d7-47a9-83df-a1aed6dc646d",
   "metadata": {},
   "outputs": [
    {
     "data": {
      "text/plain": [
       "1"
      ]
     },
     "execution_count": 34,
     "metadata": {},
     "output_type": "execute_result"
    }
   ],
   "source": [
    "lab.age"
   ]
  },
  {
   "cell_type": "code",
   "execution_count": null,
   "id": "2f42b758-f53e-4e21-81ec-738db8831348",
   "metadata": {},
   "outputs": [],
   "source": []
  }
 ],
 "metadata": {
  "kernelspec": {
   "display_name": "Python 3 (ipykernel)",
   "language": "python",
   "name": "python3"
  },
  "language_info": {
   "codemirror_mode": {
    "name": "ipython",
    "version": 3
   },
   "file_extension": ".py",
   "mimetype": "text/x-python",
   "name": "python",
   "nbconvert_exporter": "python",
   "pygments_lexer": "ipython3",
   "version": "3.12.7"
  }
 },
 "nbformat": 4,
 "nbformat_minor": 5
}
