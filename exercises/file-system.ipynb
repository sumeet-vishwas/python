{
 "cells": [
  {
   "cell_type": "code",
   "execution_count": 1,
   "id": "cee25740-b596-46ca-ba68-47477ecec523",
   "metadata": {},
   "outputs": [
    {
     "data": {
      "text/plain": [
       "'C:\\\\Users\\\\SumeetKumarVishwas\\\\self\\\\python\\\\exercises'"
      ]
     },
     "execution_count": 1,
     "metadata": {},
     "output_type": "execute_result"
    }
   ],
   "source": [
    "pwd"
   ]
  },
  {
   "cell_type": "code",
   "execution_count": 18,
   "id": "249eea24-8b15-4bc2-b7fc-90ea22ec2dba",
   "metadata": {},
   "outputs": [],
   "source": [
    "f=open('testfile.txt','w+')\n",
    "f.write('this is second test')\n",
    "f.close()"
   ]
  },
  {
   "cell_type": "code",
   "execution_count": 8,
   "id": "02768a96-769e-41a0-b25b-637f87e518f5",
   "metadata": {},
   "outputs": [
    {
     "data": {
      "text/plain": [
       "'C:\\\\Users\\\\SumeetKumarVishwas\\\\self\\\\python\\\\exercises'"
      ]
     },
     "execution_count": 8,
     "metadata": {},
     "output_type": "execute_result"
    }
   ],
   "source": [
    "import os\n",
    "\n",
    "os.getcwd()"
   ]
  },
  {
   "cell_type": "code",
   "execution_count": 19,
   "id": "e9749458-b34b-410f-b95c-ad47f4afabbb",
   "metadata": {},
   "outputs": [
    {
     "data": {
      "text/plain": [
       "['.ipynb_checkpoints',\n",
       " 'collections.ipynb',\n",
       " 'decorators.ipynb',\n",
       " 'file-system.ipynb',\n",
       " 'new-dir',\n",
       " 'testfile.txt']"
      ]
     },
     "execution_count": 19,
     "metadata": {},
     "output_type": "execute_result"
    }
   ],
   "source": [
    "os.listdir()"
   ]
  },
  {
   "cell_type": "code",
   "execution_count": 10,
   "id": "4040af38-257e-4123-9c74-81f0a181c1f5",
   "metadata": {},
   "outputs": [],
   "source": [
    "os.mkdir('new-dir')"
   ]
  },
  {
   "cell_type": "code",
   "execution_count": 12,
   "id": "c548fb2e-44af-439f-b0b2-ab339020f7bf",
   "metadata": {},
   "outputs": [
    {
     "data": {
      "text/plain": [
       "'new-dir\\\\testfile2.txt'"
      ]
     },
     "execution_count": 12,
     "metadata": {},
     "output_type": "execute_result"
    }
   ],
   "source": [
    "import shutil\n",
    "\n",
    "shutil.move('testfile2.txt','new-dir')"
   ]
  },
  {
   "cell_type": "code",
   "execution_count": 14,
   "id": "171036a1-ebde-45bf-bcc0-82ec75508a99",
   "metadata": {},
   "outputs": [
    {
     "data": {
      "text/plain": [
       "['testfile2.txt']"
      ]
     },
     "execution_count": 14,
     "metadata": {},
     "output_type": "execute_result"
    }
   ],
   "source": [
    "os.listdir('new-dir')"
   ]
  },
  {
   "cell_type": "code",
   "execution_count": 17,
   "id": "534fd9d6-9a6f-4abf-91dc-c490e3d5ebe8",
   "metadata": {},
   "outputs": [
    {
     "ename": "FileNotFoundError",
     "evalue": "[WinError 2] The system cannot find the file specified: 'testfile.txt'",
     "output_type": "error",
     "traceback": [
      "\u001b[1;31m---------------------------------------------------------------------------\u001b[0m",
      "\u001b[1;31mFileNotFoundError\u001b[0m                         Traceback (most recent call last)",
      "Cell \u001b[1;32mIn[17], line 1\u001b[0m\n\u001b[1;32m----> 1\u001b[0m os\u001b[38;5;241m.\u001b[39munlink(\u001b[38;5;124m'\u001b[39m\u001b[38;5;124mtestfile.txt\u001b[39m\u001b[38;5;124m'\u001b[39m)\n",
      "\u001b[1;31mFileNotFoundError\u001b[0m: [WinError 2] The system cannot find the file specified: 'testfile.txt'"
     ]
    }
   ],
   "source": [
    "os.unlink('testfile.txt')"
   ]
  },
  {
   "cell_type": "code",
   "execution_count": 20,
   "id": "750ec7fb-9d81-405d-9057-9c1447315593",
   "metadata": {},
   "outputs": [],
   "source": [
    "import send2trash\n",
    "\n",
    "send2trash.send2trash('testfile.txt')"
   ]
  },
  {
   "cell_type": "code",
   "execution_count": 22,
   "id": "da2fb329-be4d-4f8d-aad0-08e7ee52feb7",
   "metadata": {},
   "outputs": [
    {
     "name": "stdout",
     "output_type": "stream",
     "text": [
      "---------start----------\n",
      "dpath : .\n",
      "dname : ['.ipynb_checkpoints', 'new-dir']\n",
      "fname : ['collections.ipynb', 'decorators.ipynb', 'file-system.ipynb']\n",
      "---------end------------\n",
      "---------start----------\n",
      "dpath : .\\.ipynb_checkpoints\n",
      "dname : []\n",
      "fname : ['collections-checkpoint.ipynb', 'decorators-checkpoint.ipynb', 'file-system-checkpoint.ipynb']\n",
      "---------end------------\n",
      "---------start----------\n",
      "dpath : .\\new-dir\n",
      "dname : []\n",
      "fname : ['testfile2.txt']\n",
      "---------end------------\n"
     ]
    }
   ],
   "source": [
    "for dpath,dname,fname in os.walk('.'):\n",
    "    print('---------start----------')\n",
    "    print(f'dpath : {dpath}')\n",
    "    print(f'dname : {dname}')\n",
    "    print(f'fname : {fname}')\n",
    "    print('---------end------------')"
   ]
  },
  {
   "cell_type": "code",
   "execution_count": null,
   "id": "3bac3112-aee9-4e21-9354-3a80f8432df6",
   "metadata": {},
   "outputs": [],
   "source": []
  }
 ],
 "metadata": {
  "kernelspec": {
   "display_name": "Python 3 (ipykernel)",
   "language": "python",
   "name": "python3"
  },
  "language_info": {
   "codemirror_mode": {
    "name": "ipython",
    "version": 3
   },
   "file_extension": ".py",
   "mimetype": "text/x-python",
   "name": "python",
   "nbconvert_exporter": "python",
   "pygments_lexer": "ipython3",
   "version": "3.12.7"
  }
 },
 "nbformat": 4,
 "nbformat_minor": 5
}
